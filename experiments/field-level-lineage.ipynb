{
 "cells": [
  {
   "cell_type": "markdown",
   "id": "e055b3fb-cf5e-4f86-a3d9-2de01d60d6de",
   "metadata": {},
   "source": [
    "# List and inverted list approach to field lineage\n",
    "<div class=\"alert alert-block alert-warning\">\n",
    "<b>Warning:</b>This code not been tested and comes with no guarantee. Use at your own risk!\n",
    "</div>\n",
    "\n",
    "## Overview\n",
    "With hl7v2 --> fhir, field level lineage is useful during discovery, design and mapping.\n",
    "Below is a simple JSON approach to match HL7 V2 values to FHIR values and display the field paths for the matches and misses.\n",
    "\n",
    "This approach relies on\n",
    "- the HL7 V2 parser generating a schematizedData field\n",
    "- flattening of both HL7 JSON and FHIR JSON into dicts\n",
    "- Inversion of the FHIR dict (keys --> values and values --> keys)\n",
    "\n",
    "This appoach assumes:\n",
    "- All HL7 V2 fields should be evaluated against all FHIR fields\n",
    "- Results should HL7 V2 centric\n",
    "\n",
    "## Pre-reqs\n",
    "Run this command once to install dependencies from the Jupyter Terminal\n",
    "```bash\n",
    "pip install flatdict\n",
    "```"
   ]
  },
  {
   "cell_type": "code",
   "execution_count": null,
   "id": "1f289922-fbba-4bfc-a66a-e1db2b2ab857",
   "metadata": {
    "tags": []
   },
   "outputs": [],
   "source": [
    "import json\n",
    "import pprint\n",
    "p = pprint.PrettyPrinter(indent=4)"
   ]
  },
  {
   "cell_type": "code",
   "execution_count": null,
   "id": "44d2e122-fa07-4b33-b2c0-acc49e2cefa2",
   "metadata": {
    "tags": []
   },
   "outputs": [],
   "source": [
    "# Our HL7 V2 Message, an ADT A03\n",
    "message = r\"\"\"{\n",
    "  \"name\": \"projects/project/locations/location/datasets/dataset/hl7V2Stores/store/messages/4O5VvTK78HueL7vdHYDaT2oMAYDZB1V9uJnIymbRTxg=\",\n",
    "  \"data\": \"TVNIfF5+XCZ8U0lNSE9TUHxTRkFDfFJBUFB8UkZBQ3wyMDIzMDcxMjEwNDQ1OHx8QURUXkEwM3wxOTg3NHxUfDIuM3x8fEFMfHw0NHxBU0NJSQ1FVk58QTAzfDIwMjMwNzEyMTAyODQ1fHx8QzAwNl5Xb29sZnNvbl5LYXRobGVlbl5eXkRyXl5eRFJOQlJeUFJTTkxeXl5PUkdEUnwNUElEfDF8MTEyMjA4Njc5MF5eXlNJTVVMQVRPUiBNUk5eTVJOfDExMjIwODY3OTBeXl5TSU1VTEFUT1IgTVJOXk1STn45OTktNzctMzE1MF5eXk5IU05CUl5OSFNOTUJSfHxTaGFuYWhhbjIwMl5IZWR5MjM0Xl5eTWlzc15eQ1VSUkVOVHx8MjAyMDAxMjkwMDAwMDB8Rnx8fDk5MSBTY2hpbGxlciBNaXNzaW9uIEFwdCAxOF5eU2FsZW1eXkJCOTAgNkhRXlVTXkhPTUV8fDA3MiA5MzA2IDk4MzJeSE9NRXx8fHx8fHx8fEVeTWl4ZWQgLSBXaGl0ZSBhbmQgQmxhY2sgQWZyaWNhbl5eXnx8fHx8fHx8DVBEMXx8fEZBTUlMWSBQUkFDVElDRV5eMTIzNDV8DVBWMXwxfEl8T3RoZXJXYXJkXk1haW5Sb29tXkJlZCAxN15TaW11bGF0ZWQgSG9zcGl0YWxeXkJFRF5NYWluIEJ1aWxkaW5nXjR8MjhifHx8QzAwNl5Xb29sZnNvbl5LYXRobGVlbl5eXkRyXl5eRFJOQlJeUFJTTkxeXl5PUkdEUnx8fE1FRHx8fHx8fHx8fDE3ODc4MTgyNDY2NDE1NjEwNTc5Xl5eXnZpc2l0aWR8fHx8fHx8fHx8fHx8fHx8fHx8fHx8RklOSVNIRUR8fHwyMDIzMDcxMjAwMzM1M3wyMDIzMDcxMjEwMjg0NXwNQUwxfDB8TUN8NDE2MDk4MDAyXkRydWcgYWxsZXJneSAoZGlzb3JkZXIpXlNOTTNeXnxTVnxEaWFycmhvZWF8MjAyMzAyMTcwMDMzNTQNQUwxfDF8REF8NTkwMzcwMDdeRHJ1ZyBpbnRvbGVyYW5jZSAoZGlzb3JkZXIpXlNOTTNeXnxNSXxDb3VnaHwyMDIzMDQyNjAwMzM1NA1BTDF8MnxNQXw0MTkxOTkwMDdeQWxsZXJneSB0byBzdWJzdGFuY2UgKGRpc29yZGVyKV5TTk0zXl58U1Z8Q2hlc3QgdGlnaHRuZXNzfDIwMjIxMTEyMDAzMzU0\",\n",
    "  \"sendFacility\": \"SFAC\",\n",
    "  \"sendTime\": \"2023-07-12T10:44:58Z\",\n",
    "  \"messageType\": \"ADT\",\n",
    "  \"createTime\": \"2023-07-12T10:44:58.610180Z\",\n",
    "  \"patientIds\": [\n",
    "    {\n",
    "      \"value\": \"1122086790\",\n",
    "      \"type\": \"MRN\"\n",
    "    },\n",
    "    {\n",
    "      \"value\": \"1122086790\",\n",
    "      \"type\": \"MRN\"\n",
    "    },\n",
    "    {\n",
    "      \"value\": \"999-77-3150\",\n",
    "      \"type\": \"NHSNMBR\"\n",
    "    }\n",
    "  ],\n",
    "  \"schematizedData\": {\n",
    "    \"data\": \"{\\\"ADT_A03\\\":{\\\"ACC\\\":null,\\\"AL1\\\":[{\\\"0\\\":\\\"AL1\\\",\\\"1\\\":\\\"0\\\",\\\"2\\\":{\\\"1\\\":\\\"MC\\\"},\\\"3\\\":{\\\"1\\\":\\\"416098002\\\",\\\"2\\\":\\\"Drug allergy (disorder)\\\",\\\"3\\\":\\\"SNM3\\\",\\\"4\\\":null,\\\"5\\\":null},\\\"4\\\":{\\\"1\\\":\\\"SV\\\"},\\\"5\\\":[\\\"Diarrhoea\\\"],\\\"6\\\":\\\"20230217003354\\\"},{\\\"0\\\":\\\"AL1\\\",\\\"1\\\":\\\"1\\\",\\\"2\\\":{\\\"1\\\":\\\"DA\\\"},\\\"3\\\":{\\\"1\\\":\\\"59037007\\\",\\\"2\\\":\\\"Drug intolerance (disorder)\\\",\\\"3\\\":\\\"SNM3\\\",\\\"4\\\":null,\\\"5\\\":null},\\\"4\\\":{\\\"1\\\":\\\"MI\\\"},\\\"5\\\":[\\\"Cough\\\"],\\\"6\\\":\\\"20230426003354\\\"},{\\\"0\\\":\\\"AL1\\\",\\\"1\\\":\\\"2\\\",\\\"2\\\":{\\\"1\\\":\\\"MA\\\"},\\\"3\\\":{\\\"1\\\":\\\"419199007\\\",\\\"2\\\":\\\"Allergy to substance (disorder)\\\",\\\"3\\\":\\\"SNM3\\\",\\\"4\\\":null,\\\"5\\\":null},\\\"4\\\":{\\\"1\\\":\\\"SV\\\"},\\\"5\\\":[\\\"Chest tightness\\\"],\\\"6\\\":\\\"20221112003354\\\"}],\\\"ARV_1\\\":null,\\\"ARV_2\\\":null,\\\"DB1\\\":null,\\\"DG1\\\":null,\\\"DRG\\\":null,\\\"EVN\\\":{\\\"0\\\":\\\"EVN\\\",\\\"1\\\":\\\"A03\\\",\\\"2\\\":\\\"20230712102845\\\",\\\"3\\\":null,\\\"4\\\":null,\\\"5\\\":[{\\\"1\\\":\\\"C006\\\",\\\"10\\\":\\\"PRSNL\\\",\\\"11\\\":null,\\\"12\\\":null,\\\"13\\\":\\\"ORGDR\\\",\\\"2\\\":{\\\"1\\\":\\\"Woolfson\\\"},\\\"3\\\":\\\"Kathleen\\\",\\\"4\\\":null,\\\"5\\\":null,\\\"6\\\":\\\"Dr\\\",\\\"7\\\":null,\\\"8\\\":null,\\\"9\\\":{\\\"1\\\":\\\"DRNBR\\\"}}],\\\"6\\\":null},\\\"GT1\\\":null,\\\"INSURANCE\\\":null,\\\"MSH\\\":{\\\"0\\\":\\\"MSH\\\",\\\"1\\\":\\\"|\\\",\\\"10\\\":\\\"19874\\\",\\\"11\\\":{\\\"1\\\":\\\"T\\\"},\\\"12\\\":{\\\"1\\\":\\\"2.3\\\"},\\\"13\\\":null,\\\"14\\\":null,\\\"15\\\":\\\"AL\\\",\\\"16\\\":null,\\\"17\\\":\\\"44\\\",\\\"18\\\":[\\\"ASCII\\\"],\\\"2\\\":\\\"^~\\\\\\\\\\\\u0026\\\",\\\"3\\\":{\\\"1\\\":\\\"SIMHOSP\\\"},\\\"4\\\":{\\\"1\\\":\\\"SFAC\\\"},\\\"5\\\":{\\\"1\\\":\\\"RAPP\\\"},\\\"6\\\":{\\\"1\\\":\\\"RFAC\\\"},\\\"7\\\":\\\"20230712104458\\\",\\\"8\\\":null,\\\"9\\\":{\\\"1\\\":\\\"ADT\\\",\\\"2\\\":\\\"A03\\\"}},\\\"NK1\\\":null,\\\"OBX\\\":null,\\\"PD1\\\":{\\\"0\\\":\\\"PD1\\\",\\\"1\\\":null,\\\"2\\\":null,\\\"3\\\":[{\\\"1\\\":\\\"FAMILY PRACTICE\\\",\\\"2\\\":null,\\\"3\\\":\\\"12345\\\"}],\\\"4\\\":null},\\\"PDA\\\":null,\\\"PID\\\":{\\\"0\\\":\\\"PID\\\",\\\"1\\\":\\\"1\\\",\\\"10\\\":null,\\\"11\\\":[{\\\"1\\\":{\\\"1\\\":\\\"991 Schiller Mission Apt 18\\\"},\\\"2\\\":null,\\\"3\\\":\\\"Salem\\\",\\\"4\\\":null,\\\"5\\\":\\\"BB90 6HQ\\\",\\\"6\\\":\\\"US\\\",\\\"7\\\":\\\"HOME\\\"}],\\\"12\\\":null,\\\"13\\\":[{\\\"1\\\":\\\"072 9306 9832\\\",\\\"2\\\":\\\"HOME\\\"}],\\\"14\\\":null,\\\"15\\\":null,\\\"16\\\":null,\\\"17\\\":null,\\\"18\\\":null,\\\"19\\\":null,\\\"2\\\":{\\\"1\\\":\\\"1122086790\\\",\\\"2\\\":null,\\\"3\\\":null,\\\"4\\\":{\\\"1\\\":\\\"SIMULATOR MRN\\\"},\\\"5\\\":\\\"MRN\\\"},\\\"20\\\":null,\\\"21\\\":null,\\\"22\\\":[{\\\"1\\\":\\\"E\\\",\\\"2\\\":\\\"Mixed - White and Black African\\\",\\\"3\\\":null,\\\"4\\\":null,\\\"5\\\":null}],\\\"23\\\":null,\\\"24\\\":null,\\\"25\\\":null,\\\"26\\\":null,\\\"27\\\":null,\\\"28\\\":null,\\\"29\\\":null,\\\"3\\\":[{\\\"1\\\":\\\"1122086790\\\",\\\"2\\\":null,\\\"3\\\":null,\\\"4\\\":{\\\"1\\\":\\\"SIMULATOR MRN\\\"},\\\"5\\\":\\\"MRN\\\"},{\\\"1\\\":\\\"999-77-3150\\\",\\\"2\\\":null,\\\"3\\\":null,\\\"4\\\":{\\\"1\\\":\\\"NHSNBR\\\"},\\\"5\\\":\\\"NHSNMBR\\\"}],\\\"30\\\":null,\\\"4\\\":null,\\\"5\\\":[{\\\"1\\\":{\\\"1\\\":\\\"Shanahan202\\\"},\\\"2\\\":\\\"Hedy234\\\",\\\"3\\\":null,\\\"4\\\":null,\\\"5\\\":\\\"Miss\\\",\\\"6\\\":null,\\\"7\\\":\\\"CURRENT\\\"}],\\\"6\\\":null,\\\"7\\\":\\\"20200129000000\\\",\\\"8\\\":{\\\"1\\\":\\\"F\\\"},\\\"9\\\":null},\\\"PROCEDURE\\\":null,\\\"PV1\\\":{\\\"0\\\":\\\"PV1\\\",\\\"1\\\":\\\"1\\\",\\\"10\\\":{\\\"1\\\":\\\"MED\\\"},\\\"11\\\":null,\\\"12\\\":null,\\\"13\\\":null,\\\"14\\\":null,\\\"15\\\":null,\\\"16\\\":null,\\\"17\\\":null,\\\"18\\\":null,\\\"19\\\":{\\\"1\\\":\\\"17878182466415610579\\\",\\\"2\\\":null,\\\"3\\\":null,\\\"4\\\":null,\\\"5\\\":\\\"visitid\\\"},\\\"2\\\":{\\\"1\\\":\\\"I\\\"},\\\"20\\\":null,\\\"21\\\":null,\\\"22\\\":null,\\\"23\\\":null,\\\"24\\\":null,\\\"25\\\":null,\\\"26\\\":null,\\\"27\\\":null,\\\"28\\\":null,\\\"29\\\":null,\\\"3\\\":{\\\"1\\\":{\\\"1\\\":\\\"OtherWard\\\"},\\\"2\\\":{\\\"1\\\":\\\"MainRoom\\\"},\\\"3\\\":{\\\"1\\\":\\\"Bed 17\\\"},\\\"4\\\":{\\\"1\\\":\\\"Simulated Hospital\\\"},\\\"5\\\":null,\\\"6\\\":\\\"BED\\\",\\\"7\\\":{\\\"1\\\":\\\"Main Building\\\"},\\\"8\\\":{\\\"1\\\":\\\"4\\\"}},\\\"30\\\":null,\\\"31\\\":null,\\\"32\\\":null,\\\"33\\\":null,\\\"34\\\":null,\\\"35\\\":null,\\\"36\\\":null,\\\"37\\\":null,\\\"38\\\":null,\\\"39\\\":null,\\\"4\\\":{\\\"1\\\":\\\"28b\\\"},\\\"40\\\":null,\\\"41\\\":{\\\"1\\\":\\\"FINISHED\\\"},\\\"42\\\":null,\\\"43\\\":null,\\\"44\\\":\\\"20230712003353\\\",\\\"45\\\":\\\"20230712102845\\\",\\\"46\\\":null,\\\"5\\\":null,\\\"6\\\":null,\\\"7\\\":[{\\\"1\\\":\\\"C006\\\",\\\"10\\\":\\\"PRSNL\\\",\\\"11\\\":null,\\\"12\\\":null,\\\"13\\\":\\\"ORGDR\\\",\\\"2\\\":{\\\"1\\\":\\\"Woolfson\\\"},\\\"3\\\":\\\"Kathleen\\\",\\\"4\\\":null,\\\"5\\\":null,\\\"6\\\":\\\"Dr\\\",\\\"7\\\":null,\\\"8\\\":null,\\\"9\\\":{\\\"1\\\":\\\"DRNBR\\\"}}],\\\"8\\\":null,\\\"9\\\":null},\\\"PV2\\\":null,\\\"ROL_1\\\":null,\\\"ROL_2\\\":null,\\\"SFT\\\":null,\\\"UAC\\\":null}}\"\n",
    "  }\n",
    "}\"\"\""
   ]
  },
  {
   "cell_type": "code",
   "execution_count": null,
   "id": "e2540b7d-849e-44dc-9196-4fc72765b6fd",
   "metadata": {
    "tags": []
   },
   "outputs": [],
   "source": [
    "# Our Patient from IFS. Loosely connected to the ADT A03 in this instanced.\n",
    "patient = r\"\"\"{\"active\":true,\"address\":[{\"city\":\"Salem\",\"country\":\"US\",\"line\":[\"991 Schiller Mission Apt 18\"],\"postalCode\":\"EE12 7SP\"}],\"birthDate\":\"2020-01-29\",\"gender\":\"female\",\"id\":\"ad2319cf1ef2ace9a0c31b9227795bb7\",\"identifier\":[{\"system\":\"unknown\",\"type\":{\"coding\":[{\"code\":\"MRN\"}]},\"value\":\"1158097754\"},{\"system\":\"unknown\",\"type\":{\"coding\":[{\"code\":\"MRN\"}]},\"value\":\"1158097754\"},{\"system\":\"unknown\",\"type\":{\"coding\":[{\"code\":\"NHSNMBR\"}]},\"value\":\"999-77-3150\"},{\"system\":\"urn:oid:google/reconciliation-stable-id\",\"value\":\"4aece0c5-895b-4bf8-b5df-c2e51e1d68de\"}],\"meta\":{\"extension\":[{\"url\":\"urn:oid:google/reconciliation-timestamp\",\"valueInstant\":\"2023-12-06T17:18:29.000+00:00\"}],\"lastUpdated\":\"2023-12-06T17:18:34.536871+00:00\",\"versionId\":\"MTcwMTg4MzExNDUzNjg3MTAwMA\"},\"multipleBirthBoolean\":false,\"name\":[{\"family\":\"Shanahan202\",\"given\":[\"Hedy234\"],\"prefix\":[\"Mrs\"],\"use\":\"anonymous\"}],\"resourceType\":\"Patient\",\"telecom\":[{\"system\":\"phone\",\"use\":\"home\",\"value\":\"077 2159 6624\"}]}\"\"\""
   ]
  },
  {
   "cell_type": "code",
   "execution_count": null,
   "id": "83c75446-86e4-4848-b670-e62ddc8e2b4c",
   "metadata": {
    "tags": []
   },
   "outputs": [],
   "source": [
    "# JSON from string\n",
    "msg = json.loads(message)\n",
    "# We only want the data element from the parsed HL7 V2 message\n",
    "hl7_data = json.loads(msg['schematizedData']['data'])\n",
    "\n",
    "fhir_patient_json = json.loads(patient)"
   ]
  },
  {
   "cell_type": "code",
   "execution_count": null,
   "id": "9c5c1c12-e772-4112-a797-5715f42df9d1",
   "metadata": {
    "tags": []
   },
   "outputs": [],
   "source": [
    "# Our flattening function\n",
    "import flatdict\n",
    "# Hl7 V2\n",
    "hl7_flat = flatdict.FlatterDict(hl7_data, delimiter='.')\n",
    "# FHIR\n",
    "fhir_flat_patient = flatdict.FlatterDict(fhir_patient_json, delimiter='.')\n",
    "# Invert FHIR for value matching\n",
    "inverted_fhir_patient = {v: k for k, v in dict(fhir_flat_patient).items() if v is not None}\n",
    "\n",
    "results = []\n",
    "for hl7_key,hl7_value in hl7_flat.items():\n",
    "    if hl7_value is None:\n",
    "        continue\n",
    "    result = {} # One row\n",
    "    result[\"hl7_field\"] = hl7_key\n",
    "    result[\"hl7_value\"] = hl7_value\n",
    "    result[\"fhir_field\"] = \"\"\n",
    "    result[\"matched\"] = False\n",
    "\n",
    "    if hl7_value in inverted_patient:\n",
    "        result_str += f' {inverted_patient[hl7_value]}'\n",
    "        result[\"fhir_field\"] = inverted_patient[hl7_value]\n",
    "        result[\"matched\"] = True\n",
    "\n",
    "    results.append(result) # Insert the row into our list"
   ]
  },
  {
   "cell_type": "code",
   "execution_count": null,
   "id": "59535825-b3cb-4339-9308-bf14d21b9313",
   "metadata": {
    "tags": []
   },
   "outputs": [],
   "source": [
    "import pandas\n",
    "from IPython.display import display, HTML\n",
    "\n",
    "df = pandas.DataFrame(results)\n",
    "df_sorted = df.sort_values(by=['matched', 'hl7_field'], ascending=True)\n",
    "display(HTML(df_sorted.to_html()))"
   ]
  }
 ],
 "metadata": {
  "environment": {
   "kernel": "python3",
   "name": "common-cpu.m113",
   "type": "gcloud",
   "uri": "gcr.io/deeplearning-platform-release/base-cpu:m113"
  },
  "kernelspec": {
   "display_name": "Python 3",
   "language": "python",
   "name": "python3"
  },
  "language_info": {
   "codemirror_mode": {
    "name": "ipython",
    "version": 3
   },
   "file_extension": ".py",
   "mimetype": "text/x-python",
   "name": "python",
   "nbconvert_exporter": "python",
   "pygments_lexer": "ipython3",
   "version": "3.10.13"
  }
 },
 "nbformat": 4,
 "nbformat_minor": 5
}
